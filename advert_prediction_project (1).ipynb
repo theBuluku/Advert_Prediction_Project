{
 "cells": [
  {
   "cell_type": "markdown",
   "metadata": {},
   "source": [
    "THE PROBLEM STATEMENT."
   ]
  },
  {
   "cell_type": "markdown",
   "metadata": {},
   "source": [
    "A Kenyan entrepreneur has created an online cryptography course and would want to advertise it on her blog. She currently targets audiences originating from various countries. In the past, she ran ads to advertise a related course on the same blog and collected data in the process. She would now like to employ your services as a Data Science Consultant to create a solution that would allow her to determine whether ads targeted to audiences of certain characteristics i.e. city, male country, advertisement topic, etc. would click on her ads. Ceate a prediction model that more accurately predicts whether a user will click an Advert"
   ]
  },
  {
   "cell_type": "code",
   "execution_count": null,
   "metadata": {},
   "outputs": [],
   "source": [
    "PROJECT OBJECTIVE.\n",
    "Create a prediction model that more accurately predicts whether a user will Click an Advertisement."
   ]
  },
  {
   "cell_type": "code",
   "execution_count": 2,
   "metadata": {},
   "outputs": [
    {
     "name": "stderr",
     "output_type": "stream",
     "text": [
      "Installing package into 'C:/Users/user/Documents/R/win-library/3.6'\n",
      "(as 'lib' is unspecified)\n"
     ]
    },
    {
     "name": "stdout",
     "output_type": "stream",
     "text": [
      "package 'remotes' successfully unpacked and MD5 sums checked\n",
      "\n",
      "The downloaded binary packages are in\n",
      "\tC:\\Users\\user\\AppData\\Local\\Temp\\RtmpYFEjsk\\downloaded_packages\n"
     ]
    },
    {
     "name": "stderr",
     "output_type": "stream",
     "text": [
      "Installing package into 'C:/Users/user/Documents/R/win-library/3.6'\n",
      "(as 'lib' is unspecified)\n"
     ]
    },
    {
     "name": "stdout",
     "output_type": "stream",
     "text": [
      "package 'pacman' successfully unpacked and MD5 sums checked\n",
      "\n",
      "The downloaded binary packages are in\n",
      "\tC:\\Users\\user\\AppData\\Local\\Temp\\RtmpYFEjsk\\downloaded_packages\n"
     ]
    },
    {
     "name": "stderr",
     "output_type": "stream",
     "text": [
      "Installing package into 'C:/Users/user/Documents/R/win-library/3.6'\n",
      "(as 'lib' is unspecified)\n"
     ]
    },
    {
     "name": "stdout",
     "output_type": "stream",
     "text": [
      "package 'gmodels' successfully unpacked and MD5 sums checked\n",
      "\n",
      "The downloaded binary packages are in\n",
      "\tC:\\Users\\user\\AppData\\Local\\Temp\\RtmpYFEjsk\\downloaded_packages\n"
     ]
    },
    {
     "name": "stderr",
     "output_type": "stream",
     "text": [
      "Installing package into 'C:/Users/user/Documents/R/win-library/3.6'\n",
      "(as 'lib' is unspecified)\n"
     ]
    },
    {
     "name": "stdout",
     "output_type": "stream",
     "text": [
      "package 'outliers' successfully unpacked and MD5 sums checked\n",
      "\n",
      "The downloaded binary packages are in\n",
      "\tC:\\Users\\user\\AppData\\Local\\Temp\\RtmpYFEjsk\\downloaded_packages\n"
     ]
    },
    {
     "name": "stderr",
     "output_type": "stream",
     "text": [
      "Installing package into 'C:/Users/user/Documents/R/win-library/3.6'\n",
      "(as 'lib' is unspecified)\n"
     ]
    },
    {
     "name": "stdout",
     "output_type": "stream",
     "text": [
      "package 'tidyverse' successfully unpacked and MD5 sums checked\n",
      "\n",
      "The downloaded binary packages are in\n",
      "\tC:\\Users\\user\\AppData\\Local\\Temp\\RtmpYFEjsk\\downloaded_packages\n"
     ]
    },
    {
     "name": "stderr",
     "output_type": "stream",
     "text": [
      "Installing package into 'C:/Users/user/Documents/R/win-library/3.6'\n",
      "(as 'lib' is unspecified)\n"
     ]
    },
    {
     "name": "stdout",
     "output_type": "stream",
     "text": [
      "package 'xgboost' successfully unpacked and MD5 sums checked\n",
      "\n",
      "The downloaded binary packages are in\n",
      "\tC:\\Users\\user\\AppData\\Local\\Temp\\RtmpYFEjsk\\downloaded_packages\n"
     ]
    },
    {
     "name": "stderr",
     "output_type": "stream",
     "text": [
      "Installing package into 'C:/Users/user/Documents/R/win-library/3.6'\n",
      "(as 'lib' is unspecified)\n"
     ]
    },
    {
     "name": "stdout",
     "output_type": "stream",
     "text": [
      "package 'corrplot' successfully unpacked and MD5 sums checked\n",
      "\n",
      "The downloaded binary packages are in\n",
      "\tC:\\Users\\user\\AppData\\Local\\Temp\\RtmpYFEjsk\\downloaded_packages\n"
     ]
    },
    {
     "name": "stderr",
     "output_type": "stream",
     "text": [
      "Installing package into 'C:/Users/user/Documents/R/win-library/3.6'\n",
      "(as 'lib' is unspecified)\n"
     ]
    },
    {
     "name": "stdout",
     "output_type": "stream",
     "text": [
      "package 'ggplot2' successfully unpacked and MD5 sums checked\n",
      "\n",
      "The downloaded binary packages are in\n",
      "\tC:\\Users\\user\\AppData\\Local\\Temp\\RtmpYFEjsk\\downloaded_packages\n"
     ]
    },
    {
     "name": "stderr",
     "output_type": "stream",
     "text": [
      "Installing package into 'C:/Users/user/Documents/R/win-library/3.6'\n",
      "(as 'lib' is unspecified)\n"
     ]
    },
    {
     "name": "stdout",
     "output_type": "stream",
     "text": [
      "package 'caret' successfully unpacked and MD5 sums checked\n",
      "\n",
      "The downloaded binary packages are in\n",
      "\tC:\\Users\\user\\AppData\\Local\\Temp\\RtmpYFEjsk\\downloaded_packages\n"
     ]
    },
    {
     "name": "stderr",
     "output_type": "stream",
     "text": [
      "Installing package into 'C:/Users/user/Documents/R/win-library/3.6'\n",
      "(as 'lib' is unspecified)\n"
     ]
    },
    {
     "name": "stdout",
     "output_type": "stream",
     "text": [
      "package 'class' successfully unpacked and MD5 sums checked\n",
      "\n",
      "The downloaded binary packages are in\n",
      "\tC:\\Users\\user\\AppData\\Local\\Temp\\RtmpYFEjsk\\downloaded_packages\n"
     ]
    },
    {
     "name": "stderr",
     "output_type": "stream",
     "text": [
      "Installing package into 'C:/Users/user/Documents/R/win-library/3.6'\n",
      "(as 'lib' is unspecified)\n"
     ]
    },
    {
     "name": "stdout",
     "output_type": "stream",
     "text": [
      "package 'tidyverse' successfully unpacked and MD5 sums checked\n",
      "\n",
      "The downloaded binary packages are in\n",
      "\tC:\\Users\\user\\AppData\\Local\\Temp\\RtmpYFEjsk\\downloaded_packages\n"
     ]
    },
    {
     "name": "stderr",
     "output_type": "stream",
     "text": [
      "Installing package into 'C:/Users/user/Documents/R/win-library/3.6'\n",
      "(as 'lib' is unspecified)\n"
     ]
    },
    {
     "name": "stdout",
     "output_type": "stream",
     "text": [
      "package 'lubridate' successfully unpacked and MD5 sums checked\n",
      "\n",
      "The downloaded binary packages are in\n",
      "\tC:\\Users\\user\\AppData\\Local\\Temp\\RtmpYFEjsk\\downloaded_packages\n"
     ]
    }
   ],
   "source": [
    "install.packages('pacman')\n",
    "install.packages('remotes')\n",
    "install.packages('gmodels')\n",
    "install.packages('outliers')\n",
    "install.packages('tidyverse')\n",
    "install.packages('xgboost')\n",
    "install.packages('corrplot')\n",
    "install.packages('ggplot2')\n",
    "install.packages('caret')\n",
    "install.packages('class')\n",
    "install.packages('tidyverse')\n",
    "install.packages('lubridate')"
   ]
  },
  {
   "cell_type": "code",
   "execution_count": 1,
   "metadata": {},
   "outputs": [
    {
     "name": "stderr",
     "output_type": "stream",
     "text": [
      "Installing package into 'C:/Users/user/Documents/R/win-library/3.6'\n",
      "(as 'lib' is unspecified)\n"
     ]
    },
    {
     "name": "stdout",
     "output_type": "stream",
     "text": [
      "package 'tidyverse' successfully unpacked and MD5 sums checked\n",
      "\n",
      "The downloaded binary packages are in\n",
      "\tC:\\Users\\user\\AppData\\Local\\Temp\\RtmpYFEjsk\\downloaded_packages\n"
     ]
    },
    {
     "name": "stderr",
     "output_type": "stream",
     "text": [
      "Installing package into 'C:/Users/user/Documents/R/win-library/3.6'\n",
      "(as 'lib' is unspecified)\n"
     ]
    },
    {
     "name": "stdout",
     "output_type": "stream",
     "text": [
      "package 'rmarkdown' successfully unpacked and MD5 sums checked\n",
      "\n",
      "The downloaded binary packages are in\n",
      "\tC:\\Users\\user\\AppData\\Local\\Temp\\RtmpYFEjsk\\downloaded_packages\n"
     ]
    },
    {
     "name": "stderr",
     "output_type": "stream",
     "text": [
      "Installing package into 'C:/Users/user/Documents/R/win-library/3.6'\n",
      "(as 'lib' is unspecified)\n"
     ]
    },
    {
     "name": "stdout",
     "output_type": "stream",
     "text": [
      "package 'caret' successfully unpacked and MD5 sums checked\n",
      "\n",
      "The downloaded binary packages are in\n",
      "\tC:\\Users\\user\\AppData\\Local\\Temp\\RtmpYFEjsk\\downloaded_packages\n"
     ]
    },
    {
     "name": "stderr",
     "output_type": "stream",
     "text": [
      "Installing package into 'C:/Users/user/Documents/R/win-library/3.6'\n",
      "(as 'lib' is unspecified)\n"
     ]
    },
    {
     "name": "stdout",
     "output_type": "stream",
     "text": [
      "package 'randomForest' successfully unpacked and MD5 sums checked\n",
      "\n",
      "The downloaded binary packages are in\n",
      "\tC:\\Users\\user\\AppData\\Local\\Temp\\RtmpYFEjsk\\downloaded_packages\n"
     ]
    },
    {
     "name": "stderr",
     "output_type": "stream",
     "text": [
      "Installing package into 'C:/Users/user/Documents/R/win-library/3.6'\n",
      "(as 'lib' is unspecified)\n"
     ]
    },
    {
     "name": "stdout",
     "output_type": "stream",
     "text": [
      "package 'ggplot2' successfully unpacked and MD5 sums checked\n",
      "\n",
      "The downloaded binary packages are in\n",
      "\tC:\\Users\\user\\AppData\\Local\\Temp\\RtmpYFEjsk\\downloaded_packages\n"
     ]
    },
    {
     "name": "stderr",
     "output_type": "stream",
     "text": [
      "Installing package into 'C:/Users/user/Documents/R/win-library/3.6'\n",
      "(as 'lib' is unspecified)\n"
     ]
    },
    {
     "name": "stdout",
     "output_type": "stream",
     "text": [
      "package 'cowplot' successfully unpacked and MD5 sums checked\n",
      "\n",
      "The downloaded binary packages are in\n",
      "\tC:\\Users\\user\\AppData\\Local\\Temp\\RtmpYFEjsk\\downloaded_packages\n"
     ]
    },
    {
     "name": "stderr",
     "output_type": "stream",
     "text": [
      "Installing package into 'C:/Users/user/Documents/R/win-library/3.6'\n",
      "(as 'lib' is unspecified)\n",
      "also installing the dependencies 'gtools', 'gdata'\n",
      "\n"
     ]
    },
    {
     "name": "stdout",
     "output_type": "stream",
     "text": [
      "package 'gtools' successfully unpacked and MD5 sums checked\n",
      "package 'gdata' successfully unpacked and MD5 sums checked\n",
      "package 'gmodels' successfully unpacked and MD5 sums checked\n",
      "\n",
      "The downloaded binary packages are in\n",
      "\tC:\\Users\\user\\AppData\\Local\\Temp\\RtmpYFEjsk\\downloaded_packages\n"
     ]
    }
   ],
   "source": [
    "install.packages('tidyverse')\n",
    "install.packages('rmarkdown')\n",
    "install.packages('caret')\n",
    "install.packages('randomForest')\n",
    "install.packages('ggplot2')\n",
    "install.packages('cowplot')\n",
    "install.packages('gmodels')"
   ]
  },
  {
   "cell_type": "code",
   "execution_count": 48,
   "metadata": {},
   "outputs": [],
   "source": [
    "# Importing the relevant libaries\n",
    "\n",
    "library(remotes)\n",
    "library(pacman)\n",
    "library(gmodels)\n",
    "library(outliers)\n",
    "library(tidyverse)\n",
    "library(xgboost)\n",
    "library(corrplot)\n",
    "library(ggplot2)\n",
    "library(caret)\n",
    "library(class)\n",
    "library(tidyverse)\n",
    "library(lubridate)"
   ]
  },
  {
   "cell_type": "code",
   "execution_count": 14,
   "metadata": {},
   "outputs": [
    {
     "data": {
      "text/html": [
       "<table>\n",
       "<caption>A data.frame: 6 × 10</caption>\n",
       "<thead>\n",
       "\t<tr><th scope=col>Daily.Time.Spent.on.Site</th><th scope=col>Age</th><th scope=col>Area.Income</th><th scope=col>Daily.Internet.Usage</th><th scope=col>Ad.Topic.Line</th><th scope=col>City</th><th scope=col>Male</th><th scope=col>Country</th><th scope=col>Timestamp</th><th scope=col>Clicked.on.Ad</th></tr>\n",
       "\t<tr><th scope=col>&lt;dbl&gt;</th><th scope=col>&lt;int&gt;</th><th scope=col>&lt;dbl&gt;</th><th scope=col>&lt;dbl&gt;</th><th scope=col>&lt;fct&gt;</th><th scope=col>&lt;fct&gt;</th><th scope=col>&lt;int&gt;</th><th scope=col>&lt;fct&gt;</th><th scope=col>&lt;fct&gt;</th><th scope=col>&lt;int&gt;</th></tr>\n",
       "</thead>\n",
       "<tbody>\n",
       "\t<tr><td>68.95</td><td>35</td><td>61833.90</td><td>256.09</td><td>Cloned 5thgeneration orchestration   </td><td>Wrightburgh   </td><td>0</td><td>Tunisia   </td><td>2016-03-27 00:53:11</td><td>0</td></tr>\n",
       "\t<tr><td>80.23</td><td>31</td><td>68441.85</td><td>193.77</td><td>Monitored national standardization   </td><td>West Jodi     </td><td>1</td><td>Nauru     </td><td>2016-04-04 01:39:02</td><td>0</td></tr>\n",
       "\t<tr><td>69.47</td><td>26</td><td>59785.94</td><td>236.50</td><td>Organic bottom-line service-desk     </td><td>Davidton      </td><td>0</td><td>San Marino</td><td>2016-03-13 20:35:42</td><td>0</td></tr>\n",
       "\t<tr><td>74.15</td><td>29</td><td>54806.18</td><td>245.89</td><td>Triple-buffered reciprocal time-frame</td><td>West Terrifurt</td><td>1</td><td>Italy     </td><td>2016-01-10 02:31:19</td><td>0</td></tr>\n",
       "\t<tr><td>68.37</td><td>35</td><td>73889.99</td><td>225.58</td><td>Robust logistical utilization        </td><td>South Manuel  </td><td>0</td><td>Iceland   </td><td>2016-06-03 03:36:18</td><td>0</td></tr>\n",
       "\t<tr><td>59.99</td><td>23</td><td>59761.56</td><td>226.74</td><td>Sharable client-driven software      </td><td>Jamieberg     </td><td>1</td><td>Norway    </td><td>2016-05-19 14:30:17</td><td>0</td></tr>\n",
       "</tbody>\n",
       "</table>\n"
      ],
      "text/latex": [
       "A data.frame: 6 × 10\n",
       "\\begin{tabular}{r|llllllllll}\n",
       " Daily.Time.Spent.on.Site & Age & Area.Income & Daily.Internet.Usage & Ad.Topic.Line & City & Male & Country & Timestamp & Clicked.on.Ad\\\\\n",
       " <dbl> & <int> & <dbl> & <dbl> & <fct> & <fct> & <int> & <fct> & <fct> & <int>\\\\\n",
       "\\hline\n",
       "\t 68.95 & 35 & 61833.90 & 256.09 & Cloned 5thgeneration orchestration    & Wrightburgh    & 0 & Tunisia    & 2016-03-27 00:53:11 & 0\\\\\n",
       "\t 80.23 & 31 & 68441.85 & 193.77 & Monitored national standardization    & West Jodi      & 1 & Nauru      & 2016-04-04 01:39:02 & 0\\\\\n",
       "\t 69.47 & 26 & 59785.94 & 236.50 & Organic bottom-line service-desk      & Davidton       & 0 & San Marino & 2016-03-13 20:35:42 & 0\\\\\n",
       "\t 74.15 & 29 & 54806.18 & 245.89 & Triple-buffered reciprocal time-frame & West Terrifurt & 1 & Italy      & 2016-01-10 02:31:19 & 0\\\\\n",
       "\t 68.37 & 35 & 73889.99 & 225.58 & Robust logistical utilization         & South Manuel   & 0 & Iceland    & 2016-06-03 03:36:18 & 0\\\\\n",
       "\t 59.99 & 23 & 59761.56 & 226.74 & Sharable client-driven software       & Jamieberg      & 1 & Norway     & 2016-05-19 14:30:17 & 0\\\\\n",
       "\\end{tabular}\n"
      ],
      "text/markdown": [
       "\n",
       "A data.frame: 6 × 10\n",
       "\n",
       "| Daily.Time.Spent.on.Site &lt;dbl&gt; | Age &lt;int&gt; | Area.Income &lt;dbl&gt; | Daily.Internet.Usage &lt;dbl&gt; | Ad.Topic.Line &lt;fct&gt; | City &lt;fct&gt; | Male &lt;int&gt; | Country &lt;fct&gt; | Timestamp &lt;fct&gt; | Clicked.on.Ad &lt;int&gt; |\n",
       "|---|---|---|---|---|---|---|---|---|---|\n",
       "| 68.95 | 35 | 61833.90 | 256.09 | Cloned 5thgeneration orchestration    | Wrightburgh    | 0 | Tunisia    | 2016-03-27 00:53:11 | 0 |\n",
       "| 80.23 | 31 | 68441.85 | 193.77 | Monitored national standardization    | West Jodi      | 1 | Nauru      | 2016-04-04 01:39:02 | 0 |\n",
       "| 69.47 | 26 | 59785.94 | 236.50 | Organic bottom-line service-desk      | Davidton       | 0 | San Marino | 2016-03-13 20:35:42 | 0 |\n",
       "| 74.15 | 29 | 54806.18 | 245.89 | Triple-buffered reciprocal time-frame | West Terrifurt | 1 | Italy      | 2016-01-10 02:31:19 | 0 |\n",
       "| 68.37 | 35 | 73889.99 | 225.58 | Robust logistical utilization         | South Manuel   | 0 | Iceland    | 2016-06-03 03:36:18 | 0 |\n",
       "| 59.99 | 23 | 59761.56 | 226.74 | Sharable client-driven software       | Jamieberg      | 1 | Norway     | 2016-05-19 14:30:17 | 0 |\n",
       "\n"
      ],
      "text/plain": [
       "  Daily.Time.Spent.on.Site Age Area.Income Daily.Internet.Usage\n",
       "1 68.95                    35  61833.90    256.09              \n",
       "2 80.23                    31  68441.85    193.77              \n",
       "3 69.47                    26  59785.94    236.50              \n",
       "4 74.15                    29  54806.18    245.89              \n",
       "5 68.37                    35  73889.99    225.58              \n",
       "6 59.99                    23  59761.56    226.74              \n",
       "  Ad.Topic.Line                         City           Male Country   \n",
       "1 Cloned 5thgeneration orchestration    Wrightburgh    0    Tunisia   \n",
       "2 Monitored national standardization    West Jodi      1    Nauru     \n",
       "3 Organic bottom-line service-desk      Davidton       0    San Marino\n",
       "4 Triple-buffered reciprocal time-frame West Terrifurt 1    Italy     \n",
       "5 Robust logistical utilization         South Manuel   0    Iceland   \n",
       "6 Sharable client-driven software       Jamieberg      1    Norway    \n",
       "  Timestamp           Clicked.on.Ad\n",
       "1 2016-03-27 00:53:11 0            \n",
       "2 2016-04-04 01:39:02 0            \n",
       "3 2016-03-13 20:35:42 0            \n",
       "4 2016-01-10 02:31:19 0            \n",
       "5 2016-06-03 03:36:18 0            \n",
       "6 2016-05-19 14:30:17 0            "
      ]
     },
     "metadata": {},
     "output_type": "display_data"
    }
   ],
   "source": [
    "# Loading the dataset and displaying the first 6 rows\n",
    "\n",
    "advert <- read.csv(\"http://bit.ly/IPAdvertisingData\")\n",
    "head(advert)"
   ]
  },
  {
   "cell_type": "code",
   "execution_count": 15,
   "metadata": {},
   "outputs": [
    {
     "data": {
      "text/html": [
       "<ol class=list-inline>\n",
       "\t<li>'Daily.Time.Spent.on.Site'</li>\n",
       "\t<li>'Age'</li>\n",
       "\t<li>'Area.Income'</li>\n",
       "\t<li>'Daily.Internet.Usage'</li>\n",
       "\t<li>'Ad.Topic.Line'</li>\n",
       "\t<li>'City'</li>\n",
       "\t<li>'Male'</li>\n",
       "\t<li>'Country'</li>\n",
       "\t<li>'Timestamp'</li>\n",
       "\t<li>'Clicked.on.Ad'</li>\n",
       "</ol>\n"
      ],
      "text/latex": [
       "\\begin{enumerate*}\n",
       "\\item 'Daily.Time.Spent.on.Site'\n",
       "\\item 'Age'\n",
       "\\item 'Area.Income'\n",
       "\\item 'Daily.Internet.Usage'\n",
       "\\item 'Ad.Topic.Line'\n",
       "\\item 'City'\n",
       "\\item 'Male'\n",
       "\\item 'Country'\n",
       "\\item 'Timestamp'\n",
       "\\item 'Clicked.on.Ad'\n",
       "\\end{enumerate*}\n"
      ],
      "text/markdown": [
       "1. 'Daily.Time.Spent.on.Site'\n",
       "2. 'Age'\n",
       "3. 'Area.Income'\n",
       "4. 'Daily.Internet.Usage'\n",
       "5. 'Ad.Topic.Line'\n",
       "6. 'City'\n",
       "7. 'Male'\n",
       "8. 'Country'\n",
       "9. 'Timestamp'\n",
       "10. 'Clicked.on.Ad'\n",
       "\n",
       "\n"
      ],
      "text/plain": [
       " [1] \"Daily.Time.Spent.on.Site\" \"Age\"                     \n",
       " [3] \"Area.Income\"              \"Daily.Internet.Usage\"    \n",
       " [5] \"Ad.Topic.Line\"            \"City\"                    \n",
       " [7] \"Male\"                     \"Country\"                 \n",
       " [9] \"Timestamp\"                \"Clicked.on.Ad\"           "
      ]
     },
     "metadata": {},
     "output_type": "display_data"
    }
   ],
   "source": [
    "# Getting the column names\n",
    "\n",
    "attributes(advert)$names"
   ]
  },
  {
   "cell_type": "code",
   "execution_count": 17,
   "metadata": {},
   "outputs": [
    {
     "data": {
      "text/plain": [
       "$Daily.Time.Spent.on.Site\n",
       "   Min. 1st Qu.  Median    Mean 3rd Qu.    Max. \n",
       "  32.60   51.36   68.22   65.00   78.55   91.43 \n",
       "\n",
       "$Age\n",
       "   Min. 1st Qu.  Median    Mean 3rd Qu.    Max. \n",
       "  19.00   29.00   35.00   36.01   42.00   61.00 \n",
       "\n",
       "$Area.Income\n",
       "   Min. 1st Qu.  Median    Mean 3rd Qu.    Max. \n",
       "  13996   47032   57012   55000   65471   79485 \n",
       "\n",
       "$Daily.Internet.Usage\n",
       "   Min. 1st Qu.  Median    Mean 3rd Qu.    Max. \n",
       "  104.8   138.8   183.1   180.0   218.8   270.0 \n",
       "\n",
       "$Male\n",
       "   Min. 1st Qu.  Median    Mean 3rd Qu.    Max. \n",
       "  0.000   0.000   0.000   0.481   1.000   1.000 \n",
       "\n",
       "$Clicked.on.Ad\n",
       "   Min. 1st Qu.  Median    Mean 3rd Qu.    Max. \n",
       "    0.0     0.0     0.5     0.5     1.0     1.0 \n"
      ]
     },
     "metadata": {},
     "output_type": "display_data"
    }
   ],
   "source": [
    "# Summary of numeric columns\n",
    "\n",
    "advert %>%\n",
    "  select_if(is.numeric) %>%\n",
    "  map(~summary(.))"
   ]
  },
  {
   "cell_type": "markdown",
   "metadata": {},
   "source": []
  },
  {
   "cell_type": "markdown",
   "metadata": {},
   "source": [
    "# Checking the number of unique attributes\n",
    "\n",
    "cat.columns <- c(\"Ad.Topic.Line\",\"City\",\"Country\",\"Timestamp\")\n",
    "no <- function(x) {  \n",
    "    nlevels(x)\n",
    "  }\n",
    "  \n",
    "number <- sapply(select(advert, cat.columns), no)\n",
    "number"
   ]
  },
  {
   "cell_type": "markdown",
   "metadata": {},
   "source": [
    " DATA CLEAN UP\n"
   ]
  },
  {
   "cell_type": "code",
   "execution_count": 20,
   "metadata": {},
   "outputs": [
    {
     "data": {
      "text/html": [
       "<dl class=dl-horizontal>\n",
       "\t<dt>Daily.Time.Spent.on.Site</dt>\n",
       "\t\t<dd>0</dd>\n",
       "\t<dt>Age</dt>\n",
       "\t\t<dd>0</dd>\n",
       "\t<dt>Area.Income</dt>\n",
       "\t\t<dd>0</dd>\n",
       "\t<dt>Daily.Internet.Usage</dt>\n",
       "\t\t<dd>0</dd>\n",
       "\t<dt>Ad.Topic.Line</dt>\n",
       "\t\t<dd>0</dd>\n",
       "\t<dt>City</dt>\n",
       "\t\t<dd>0</dd>\n",
       "\t<dt>Male</dt>\n",
       "\t\t<dd>0</dd>\n",
       "\t<dt>Country</dt>\n",
       "\t\t<dd>0</dd>\n",
       "\t<dt>Timestamp</dt>\n",
       "\t\t<dd>0</dd>\n",
       "\t<dt>Clicked.on.Ad</dt>\n",
       "\t\t<dd>0</dd>\n",
       "</dl>\n"
      ],
      "text/latex": [
       "\\begin{description*}\n",
       "\\item[Daily.Time.Spent.on.Site] 0\n",
       "\\item[Age] 0\n",
       "\\item[Area.Income] 0\n",
       "\\item[Daily.Internet.Usage] 0\n",
       "\\item[Ad.Topic.Line] 0\n",
       "\\item[City] 0\n",
       "\\item[Male] 0\n",
       "\\item[Country] 0\n",
       "\\item[Timestamp] 0\n",
       "\\item[Clicked.on.Ad] 0\n",
       "\\end{description*}\n"
      ],
      "text/markdown": [
       "Daily.Time.Spent.on.Site\n",
       ":   0Age\n",
       ":   0Area.Income\n",
       ":   0Daily.Internet.Usage\n",
       ":   0Ad.Topic.Line\n",
       ":   0City\n",
       ":   0Male\n",
       ":   0Country\n",
       ":   0Timestamp\n",
       ":   0Clicked.on.Ad\n",
       ":   0\n",
       "\n"
      ],
      "text/plain": [
       "Daily.Time.Spent.on.Site                      Age              Area.Income \n",
       "                       0                        0                        0 \n",
       "    Daily.Internet.Usage            Ad.Topic.Line                     City \n",
       "                       0                        0                        0 \n",
       "                    Male                  Country                Timestamp \n",
       "                       0                        0                        0 \n",
       "           Clicked.on.Ad \n",
       "                       0 "
      ]
     },
     "metadata": {},
     "output_type": "display_data"
    }
   ],
   "source": [
    "# Checking for Missing values\n",
    "\n",
    "colSums(is.na(advert))"
   ]
  },
  {
   "cell_type": "markdown",
   "metadata": {},
   "source": [
    "There is no missing values in our dataset"
   ]
  },
  {
   "cell_type": "code",
   "execution_count": 21,
   "metadata": {},
   "outputs": [
    {
     "data": {
      "text/html": [
       "0"
      ],
      "text/latex": [
       "0"
      ],
      "text/markdown": [
       "0"
      ],
      "text/plain": [
       "[1] 0"
      ]
     },
     "metadata": {},
     "output_type": "display_data"
    }
   ],
   "source": [
    "# Checking for duplicatated values\n",
    "\n",
    "anyDuplicated(advert)"
   ]
  },
  {
   "cell_type": "markdown",
   "metadata": {},
   "source": [
    "There are no duplicate values."
   ]
  },
  {
   "cell_type": "code",
   "execution_count": 32,
   "metadata": {},
   "outputs": [
    {
     "data": {
      "image/png": "[encoded data removed]",
      "text/plain": [
       "Plot with title \"Area Income \""
      ]
     },
     "metadata": {},
     "output_type": "display_data"
    }
   ],
   "source": [
    "# Checking outliers using boxplots on area income\n",
    "boxplot(advert$Area.Income,main = \"Area Income \",col=5)\n"
   ]
  },
  {
   "cell_type": "markdown",
   "metadata": {},
   "source": [
    "There are duplicates at the incomes below 2000"
   ]
  },
  {
   "cell_type": "code",
   "execution_count": 31,
   "metadata": {},
   "outputs": [
    {
     "data": {
      "image/png": "[encoded data removed]",
      "text/plain": [
       "Plot with title \"Daily Internet Usage \""
      ]
     },
     "metadata": {},
     "output_type": "display_data"
    }
   ],
   "source": [
    "# Plotting boxplots on  Daily Internet Usage\n",
    "boxplot(advert$Daily.Internet.Usage,main = \"Daily Internet Usage \",col=7)"
   ]
  },
  {
   "cell_type": "markdown",
   "metadata": {},
   "source": [
    "There are no outliers on the daily internet usage."
   ]
  },
  {
   "cell_type": "markdown",
   "metadata": {},
   "source": [
    "EXPLORATIVE DATA ANALYSIS.\n",
    "\n",
    "Univariate Analysis"
   ]
  },
  {
   "cell_type": "code",
   "execution_count": 28,
   "metadata": {},
   "outputs": [
    {
     "data": {
      "image/png": "[encoded data removed]",
      "text/plain": [
       "Plot with title \"Gender Distribution\""
      ]
     },
     "metadata": {},
     "output_type": "display_data"
    }
   ],
   "source": [
    "# Plotting barplots of the Gender column\n",
    "\n",
    "counts <- table(advert$Age)\n",
    "barplot(counts, main=\"Gender Distribution\",xlab=\"Target variable\",ylab = \"Frequency\",col=2)\n"
   ]
  },
  {
   "cell_type": "code",
   "execution_count": 29,
   "metadata": {},
   "outputs": [
    {
     "data": {
      "image/png": "[encoded data removed]",
      "text/plain": [
       "Plot with title \"Target Variable Distribution\""
      ]
     },
     "metadata": {},
     "output_type": "display_data"
    }
   ],
   "source": [
    "# Plotting barplots of the target column\n",
    "\n",
    "counts <- table(advert$Clicked.on.Ad)\n",
    "barplot(counts, main=\"Target Variable Distribution\",xlab=\"Target variable\",ylab = \"Frequency\",col=\"magenta\")"
   ]
  },
  {
   "cell_type": "markdown",
   "metadata": {},
   "source": [
    "Bivariate Analysis."
   ]
  },
  {
   "cell_type": "code",
   "execution_count": 42,
   "metadata": {},
   "outputs": [
    {
     "name": "stderr",
     "output_type": "stream",
     "text": [
      "Installing package into 'C:/Users/user/Documents/R/win-library/3.6'\n",
      "(as 'lib' is unspecified)\n",
      "Warning message:\n",
      "\"package 'ggplot2' is in use and will not be installed\""
     ]
    }
   ],
   "source": [
    "install.packages('ggplot2')"
   ]
  },
  {
   "cell_type": "code",
   "execution_count": 50,
   "metadata": {},
   "outputs": [
    {
     "name": "stderr",
     "output_type": "stream",
     "text": [
      "Installing package into 'C:/Users/user/Documents/R/win-library/3.6'\n",
      "(as 'lib' is unspecified)\n",
      "Warning message:\n",
      "\"package 'pacman' is in use and will not be installed\""
     ]
    }
   ],
   "source": [
    "install.packages(\"pacman\")\n",
    "library(pacman)\n",
    "pacman::p_load(pacman, dplyr, ggplot2, rio, gridExtra, scales, ggcorrplot, caret, e1071)"
   ]
  },
  {
   "cell_type": "code",
   "execution_count": 49,
   "metadata": {},
   "outputs": [
    {
     "ename": "ERROR",
     "evalue": "Error in parse(text = x, srcfile = src): attempt to use zero-length variable name\n",
     "output_type": "error",
     "traceback": [
      "Error in parse(text = x, srcfile = src): attempt to use zero-length variable name\nTraceback:\n"
     ]
    }
   ],
   "source": [
    "#bivariate\n",
    "## GGplot\n",
    "plot1 <- ggplot(advert, aes(x = Age, y = Daily.Internet.Usage, color = Clicked.on.Ad)) + geom_point(size = 3) +\n",
    "theme(text = element_text(size = 10), axis.text.x = element_text(size = 5),axis.text.y = element_text(size = 5))\n",
    "plot_grid(plot1)\n",
    "##\n",
    "##\n",
    "plot2 <- ggplot(advert, aes(x = Daily.Time.Spent.on.Site, y=Daily.Internet.Usage, color=Clicked.on.Ad)) + geom_point(size=3)+\n",
    "theme(text = element_text(size=10) ,axis.text.x = element_text(size = 5),axis.text.y = element_text(size = 5))\n",
    "plot_grid(plot2)\n",
    "##\n",
    "##\n",
    "plot3 <- ggplot(advert, aes(x = Age, y = Area.Income, color=Clicked.on.Ad)) + geom_point(size=3)+\n",
    "theme(text = element_text(size=10) ,axis.text.x = element_text(size = 5),axis.text.y = element_text(size = 5))\n",
    "plot_grid(plot3)\n",
    "```\n",
    "hist(advert$Area.Income, col=\"brown\")\n",
    "#Visualizing the Age vs Internet usage\n",
    "ggplot(advert,color=\"red\", aes(Age,Daily.Internet.Usage),color=\"red\") + geom_bar( stat = \"identity\") +theme(axis.text.x = element_text(angle = 70, vjust = 0.5, color = \"green\")) + xlab(\"Age\") + ylab(\"Daily Internet Usage\")+ggtitle(\"Age vs Internet usage\")\n",
    "#People from ages 27 to 37 reported to be having the most internet usage\n",
    "```\n",
    "# box plot\n",
    "boxplot(advert$Area.Income,col = \"red\")\n",
    "```\n",
    "#Checking the adclick as per the gender\n",
    "ggplot(advert, aes(Male,Clicked.on.Ad )) + geom_bar( stat = \"identity\") + theme(axis.text.x = element_text(angle = 70, vjust = 0.5, color = \"blue\")) + xlab(\"Gender\") + ylab(\"adclicks\")+ggtitle(\"Clicks as per the gender\")\n",
    "#Males reported to have more clicks as compared to female"
   ]
  },
  {
   "cell_type": "code",
   "execution_count": 51,
   "metadata": {},
   "outputs": [
    {
     "name": "stderr",
     "output_type": "stream",
     "text": [
      "Installing package into 'C:/Users/user/Documents/R/win-library/3.6'\n",
      "(as 'lib' is unspecified)\n",
      "Warning message:\n",
      "\"package 'pacman' is in use and will not be installed\""
     ]
    }
   ],
   "source": [
    "install.packages(\"pacman\")\n",
    "library(pacman)\n",
    "pacman::p_load(pacman, dplyr, ggplot2, rio, gridExtra, scales, ggcorrplot, caret, e1071)"
   ]
  },
  {
   "cell_type": "code",
   "execution_count": 55,
   "metadata": {},
   "outputs": [
    {
     "data": {
      "image/png": "[encoded data removed]",
      "text/plain": [
       "plot without title"
      ]
     },
     "metadata": {},
     "output_type": "display_data"
    }
   ],
   "source": [
    "#Checking the adclick as per the gender\n",
    "ggplot(advert, aes(Male,Clicked.on.Ad )) + geom_bar( stat = \"identity\") + theme(axis.text.x = element_text(angle = 70, vjust = 0.5, color='purple')) + xlab(\"Gender\") + ylab(\"adclicks\")+ggtitle(\"Clicks as per the gender\")\n",
    "#Males reported to have more clicks as compared to female"
   ]
  },
  {
   "cell_type": "code",
   "execution_count": 64,
   "metadata": {},
   "outputs": [
    {
     "data": {
      "image/png": "[encoded data removed]",
      "text/plain": [
       "Plot with title \"Scatterplot Age VS Daily Time spent\""
      ]
     },
     "metadata": {},
     "output_type": "display_data"
    }
   ],
   "source": [
    "# Plotting a scatter plot between variables\n",
    "\n",
    "plot(advert$Area.Income, advert$age, main=\"Scatterplot Age VS Daily Time spent\",\n",
    "   xlab=\"Age \", ylab=\"Daily Time Spent \", pch=19, col=2)"
   ]
  },
  {
   "cell_type": "code",
   "execution_count": 67,
   "metadata": {},
   "outputs": [
    {
     "data": {
      "image/png": "[encoded data removed]",
      "text/plain": [
       "plot without title"
      ]
     },
     "metadata": {},
     "output_type": "display_data"
    }
   ],
   "source": [
    "# Plotting a histogram of daily Time Spent\n",
    "\n",
    "qplot(advert$Daily.Time.Spent.on.Site,main = \"Daily Time Spent Distribution\",geom=\"histogram\",\n",
    "    xlab = \"Daily Time Spent\",ylab = \"Frequency Of TimeSpent\",binwidth = 5,fill=I(\"cyan\"),col=I(\"blue\"), alpha=I(.2),)"
   ]
  },
  {
   "cell_type": "markdown",
   "metadata": {},
   "source": [
    "Daily time spent online is about 80minutes. "
   ]
  },
  {
   "cell_type": "code",
   "execution_count": 76,
   "metadata": {},
   "outputs": [],
   "source": [
    "library(ggcorrplot)"
   ]
  },
  {
   "cell_type": "code",
   "execution_count": 78,
   "metadata": {},
   "outputs": [
    {
     "ename": "ERROR",
     "evalue": "Error in ggcorrplot(round(corr_advert, 2), lab = T): object 'corr_advert' not found\n",
     "output_type": "error",
     "traceback": [
      "Error in ggcorrplot(round(corr_advert, 2), lab = T): object 'corr_advert' not found\nTraceback:\n",
      "1. ggcorrplot(round(corr_advert, 2), lab = T)"
     ]
    }
   ],
   "source": [
    "# Plotting heatmap to get more correlation\n",
    "\n",
    "col<- colorRampPalette(c(\"red\", \"blue\", \"white\"))(20)\n",
    "ggcorrplot(round(corr_advert, 2) ,lab = T)"
   ]
  },
  {
   "cell_type": "code",
   "execution_count": null,
   "metadata": {},
   "outputs": [],
   "source": []
  },
  {
   "cell_type": "markdown",
   "metadata": {},
   "source": [
    "MODELLING"
   ]
  },
  {
   "cell_type": "code",
   "execution_count": null,
   "metadata": {},
   "outputs": [],
   "source": []
  },
  {
   "cell_type": "code",
   "execution_count": null,
   "metadata": {},
   "outputs": [],
   "source": []
  },
  {
   "cell_type": "code",
   "execution_count": null,
   "metadata": {},
   "outputs": [],
   "source": []
  }
 ],
 "metadata": {
  "kernelspec": {
   "display_name": "R",
   "language": "R",
   "name": "ir"
  },
  "language_info": {
   "codemirror_mode": "r",
   "file_extension": ".r",
   "mimetype": "text/x-r-source",
   "name": "R",
   "pygments_lexer": "r",
   "version": "3.6.1"
  }
 },
 "nbformat": 4,
 "nbformat_minor": 2
}
