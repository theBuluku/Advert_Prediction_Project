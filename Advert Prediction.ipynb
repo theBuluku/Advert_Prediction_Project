{
 "cells": [
  {
   "cell_type": "markdown",
   "metadata": {},
   "source": [
    "# THE PROBLEM STATEMENT."
   ]
  },
  {
   "cell_type": "markdown",
   "metadata": {},
   "source": [
    "A Kenyan entrepreneur has created an online cryptography course and would want to advertise it on her blog. She currently targets audiences originating from various countries. In the past, she ran ads to advertise a related course on the same blog and collected data in the process. She would now like to employ your services as a Data Science Consultant to create a solution that would allow her to determine whether ads targeted to audiences of certain characteristics i.e. city, male country, advertisement topic, etc. would click on her ads. Ceate a prediction model that more accurately predicts whether a user will click an Advert"
   ]
  },
  {
   "cell_type": "markdown",
   "metadata": {},
   "source": [
    "# PROJECT OBJECTIVE."
   ]
  },
  {
   "cell_type": "code",
   "execution_count": null,
   "metadata": {},
   "outputs": [],
   "source": [
    "\n",
    "Create a prediction model that more accurately predicts whether a user will Click an Advertisement."
   ]
  },
  {
   "cell_type": "code",
   "execution_count": null,
   "metadata": {},
   "outputs": [],
   "source": [
    "METRICS OF SUCCESS.\n",
    "1.Confusion Matrix\n",
    "2.RMSE\n",
    "3.Accuracy"
   ]
  },
  {
   "cell_type": "code",
   "execution_count": 2,
   "metadata": {},
   "outputs": [
    {
     "name": "stderr",
     "output_type": "stream",
     "text": [
      "Registered S3 method overwritten by 'rvest':\n",
      "  method            from\n",
      "  read_xml.response xml2\n",
      "-- Attaching packages --------------------------------------- tidyverse 1.2.1 --\n",
      "v ggplot2 3.2.1       v purrr   0.3.2  \n",
      "v tibble  2.1.1       v dplyr   0.8.0.1\n",
      "v tidyr   0.8.3       v stringr 1.4.0  \n",
      "v readr   1.3.1       v forcats 0.4.0  \n",
      "-- Conflicts ------------------------------------------ tidyverse_conflicts() --\n",
      "x dplyr::filter() masks stats::filter()\n",
      "x dplyr::lag()    masks stats::lag()\n",
      "\n",
      "Attaching package: 'xgboost'\n",
      "\n",
      "The following object is masked from 'package:dplyr':\n",
      "\n",
      "    slice\n",
      "\n",
      "corrplot 0.84 loaded\n",
      "Loading required package: lattice\n",
      "\n",
      "Attaching package: 'caret'\n",
      "\n",
      "The following object is masked from 'package:purrr':\n",
      "\n",
      "    lift\n",
      "\n",
      "\n",
      "Attaching package: 'lubridate'\n",
      "\n",
      "The following object is masked from 'package:base':\n",
      "\n",
      "    date\n",
      "\n"
     ]
    }
   ],
   "source": [
    "# Importing the relevant libaries\n",
    "\n",
    "library(remotes)\n",
    "library(pacman)\n",
    "library(gmodels)\n",
    "library(outliers)\n",
    "library(tidyverse)\n",
    "library(xgboost)\n",
    "library(corrplot)\n",
    "library(ggplot2)\n",
    "library(caret)\n",
    "library(class)\n",
    "library(tidyverse)\n",
    "library(lubridate)\n",
    "library(ggcorrplot)\n",
    "theme_set(theme_classic())\n",
    "options(warn = -1)"
   ]
  },
  {
   "cell_type": "code",
   "execution_count": 171,
   "metadata": {},
   "outputs": [
    {
     "data": {
      "text/html": [
       "<table>\n",
       "<caption>A data.frame: 6 × 10</caption>\n",
       "<thead>\n",
       "\t<tr><th scope=col>Daily.Time.Spent.on.Site</th><th scope=col>Age</th><th scope=col>Area.Income</th><th scope=col>Daily.Internet.Usage</th><th scope=col>Ad.Topic.Line</th><th scope=col>City</th><th scope=col>Male</th><th scope=col>Country</th><th scope=col>Timestamp</th><th scope=col>Clicked.on.Ad</th></tr>\n",
       "\t<tr><th scope=col>&lt;dbl&gt;</th><th scope=col>&lt;int&gt;</th><th scope=col>&lt;dbl&gt;</th><th scope=col>&lt;dbl&gt;</th><th scope=col>&lt;fct&gt;</th><th scope=col>&lt;fct&gt;</th><th scope=col>&lt;int&gt;</th><th scope=col>&lt;fct&gt;</th><th scope=col>&lt;fct&gt;</th><th scope=col>&lt;int&gt;</th></tr>\n",
       "</thead>\n",
       "<tbody>\n",
       "\t<tr><td>68.95</td><td>35</td><td>61833.90</td><td>256.09</td><td>Cloned 5thgeneration orchestration   </td><td>Wrightburgh   </td><td>0</td><td>Tunisia   </td><td>2016-03-27 00:53:11</td><td>0</td></tr>\n",
       "\t<tr><td>80.23</td><td>31</td><td>68441.85</td><td>193.77</td><td>Monitored national standardization   </td><td>West Jodi     </td><td>1</td><td>Nauru     </td><td>2016-04-04 01:39:02</td><td>0</td></tr>\n",
       "\t<tr><td>69.47</td><td>26</td><td>59785.94</td><td>236.50</td><td>Organic bottom-line service-desk     </td><td>Davidton      </td><td>0</td><td>San Marino</td><td>2016-03-13 20:35:42</td><td>0</td></tr>\n",
       "\t<tr><td>74.15</td><td>29</td><td>54806.18</td><td>245.89</td><td>Triple-buffered reciprocal time-frame</td><td>West Terrifurt</td><td>1</td><td>Italy     </td><td>2016-01-10 02:31:19</td><td>0</td></tr>\n",
       "\t<tr><td>68.37</td><td>35</td><td>73889.99</td><td>225.58</td><td>Robust logistical utilization        </td><td>South Manuel  </td><td>0</td><td>Iceland   </td><td>2016-06-03 03:36:18</td><td>0</td></tr>\n",
       "\t<tr><td>59.99</td><td>23</td><td>59761.56</td><td>226.74</td><td>Sharable client-driven software      </td><td>Jamieberg     </td><td>1</td><td>Norway    </td><td>2016-05-19 14:30:17</td><td>0</td></tr>\n",
       "</tbody>\n",
       "</table>\n"
      ],
      "text/latex": [
       "A data.frame: 6 × 10\n",
       "\\begin{tabular}{r|llllllllll}\n",
       " Daily.Time.Spent.on.Site & Age & Area.Income & Daily.Internet.Usage & Ad.Topic.Line & City & Male & Country & Timestamp & Clicked.on.Ad\\\\\n",
       " <dbl> & <int> & <dbl> & <dbl> & <fct> & <fct> & <int> & <fct> & <fct> & <int>\\\\\n",
       "\\hline\n",
       "\t 68.95 & 35 & 61833.90 & 256.09 & Cloned 5thgeneration orchestration    & Wrightburgh    & 0 & Tunisia    & 2016-03-27 00:53:11 & 0\\\\\n",
       "\t 80.23 & 31 & 68441.85 & 193.77 & Monitored national standardization    & West Jodi      & 1 & Nauru      & 2016-04-04 01:39:02 & 0\\\\\n",
       "\t 69.47 & 26 & 59785.94 & 236.50 & Organic bottom-line service-desk      & Davidton       & 0 & San Marino & 2016-03-13 20:35:42 & 0\\\\\n",
       "\t 74.15 & 29 & 54806.18 & 245.89 & Triple-buffered reciprocal time-frame & West Terrifurt & 1 & Italy      & 2016-01-10 02:31:19 & 0\\\\\n",
       "\t 68.37 & 35 & 73889.99 & 225.58 & Robust logistical utilization         & South Manuel   & 0 & Iceland    & 2016-06-03 03:36:18 & 0\\\\\n",
       "\t 59.99 & 23 & 59761.56 & 226.74 & Sharable client-driven software       & Jamieberg      & 1 & Norway     & 2016-05-19 14:30:17 & 0\\\\\n",
       "\\end{tabular}\n"
      ],
      "text/markdown": [
       "\n",
       "A data.frame: 6 × 10\n",
       "\n",
       "| Daily.Time.Spent.on.Site &lt;dbl&gt; | Age &lt;int&gt; | Area.Income &lt;dbl&gt; | Daily.Internet.Usage &lt;dbl&gt; | Ad.Topic.Line &lt;fct&gt; | City &lt;fct&gt; | Male &lt;int&gt; | Country &lt;fct&gt; | Timestamp &lt;fct&gt; | Clicked.on.Ad &lt;int&gt; |\n",
       "|---|---|---|---|---|---|---|---|---|---|\n",
       "| 68.95 | 35 | 61833.90 | 256.09 | Cloned 5thgeneration orchestration    | Wrightburgh    | 0 | Tunisia    | 2016-03-27 00:53:11 | 0 |\n",
       "| 80.23 | 31 | 68441.85 | 193.77 | Monitored national standardization    | West Jodi      | 1 | Nauru      | 2016-04-04 01:39:02 | 0 |\n",
       "| 69.47 | 26 | 59785.94 | 236.50 | Organic bottom-line service-desk      | Davidton       | 0 | San Marino | 2016-03-13 20:35:42 | 0 |\n",
       "| 74.15 | 29 | 54806.18 | 245.89 | Triple-buffered reciprocal time-frame | West Terrifurt | 1 | Italy      | 2016-01-10 02:31:19 | 0 |\n",
       "| 68.37 | 35 | 73889.99 | 225.58 | Robust logistical utilization         | South Manuel   | 0 | Iceland    | 2016-06-03 03:36:18 | 0 |\n",
       "| 59.99 | 23 | 59761.56 | 226.74 | Sharable client-driven software       | Jamieberg      | 1 | Norway     | 2016-05-19 14:30:17 | 0 |\n",
       "\n"
      ],
      "text/plain": [
       "  Daily.Time.Spent.on.Site Age Area.Income Daily.Internet.Usage\n",
       "1 68.95                    35  61833.90    256.09              \n",
       "2 80.23                    31  68441.85    193.77              \n",
       "3 69.47                    26  59785.94    236.50              \n",
       "4 74.15                    29  54806.18    245.89              \n",
       "5 68.37                    35  73889.99    225.58              \n",
       "6 59.99                    23  59761.56    226.74              \n",
       "  Ad.Topic.Line                         City           Male Country   \n",
       "1 Cloned 5thgeneration orchestration    Wrightburgh    0    Tunisia   \n",
       "2 Monitored national standardization    West Jodi      1    Nauru     \n",
       "3 Organic bottom-line service-desk      Davidton       0    San Marino\n",
       "4 Triple-buffered reciprocal time-frame West Terrifurt 1    Italy     \n",
       "5 Robust logistical utilization         South Manuel   0    Iceland   \n",
       "6 Sharable client-driven software       Jamieberg      1    Norway    \n",
       "  Timestamp           Clicked.on.Ad\n",
       "1 2016-03-27 00:53:11 0            \n",
       "2 2016-04-04 01:39:02 0            \n",
       "3 2016-03-13 20:35:42 0            \n",
       "4 2016-01-10 02:31:19 0            \n",
       "5 2016-06-03 03:36:18 0            \n",
       "6 2016-05-19 14:30:17 0            "
      ]
     },
     "metadata": {},
     "output_type": "display_data"
    }
   ],
   "source": [
    "# Loading the dataset and displaying the first 6 rows\n",
    "\n",
    "advert <- read.csv(\"http://bit.ly/IPAdvertisingData\")\n",
    "head(advert)"
   ]
  },
  {
   "cell_type": "code",
   "execution_count": 173,
   "metadata": {},
   "outputs": [
    {
     "data": {
      "text/html": [
       "<ol class=list-inline>\n",
       "\t<li>1000</li>\n",
       "\t<li>10</li>\n",
       "</ol>\n"
      ],
      "text/latex": [
       "\\begin{enumerate*}\n",
       "\\item 1000\n",
       "\\item 10\n",
       "\\end{enumerate*}\n"
      ],
      "text/markdown": [
       "1. 1000\n",
       "2. 10\n",
       "\n",
       "\n"
      ],
      "text/plain": [
       "[1] 1000   10"
      ]
     },
     "metadata": {},
     "output_type": "display_data"
    }
   ],
   "source": [
    "#Checking the dimensions of the dataset\n",
    "dim(advert)"
   ]
  },
  {
   "cell_type": "markdown",
   "metadata": {},
   "source": [
    "The dataset has 1000 rows and 10 columns"
   ]
  },
  {
   "cell_type": "code",
   "execution_count": 158,
   "metadata": {},
   "outputs": [],
   "source": [
    "# The male column should be renamed to gender\n",
    "colnames(advert)[colnames(advert) == 'Male'] = 'Gender'"
   ]
  },
  {
   "cell_type": "code",
   "execution_count": 159,
   "metadata": {},
   "outputs": [
    {
     "data": {
      "text/html": [
       "<ol class=list-inline>\n",
       "\t<li>'Daily.Time.Spent.on.Site'</li>\n",
       "\t<li>'Age'</li>\n",
       "\t<li>'Area.Income'</li>\n",
       "\t<li>'Daily.Internet.Usage'</li>\n",
       "\t<li>'Ad.Topic.Line'</li>\n",
       "\t<li>'City'</li>\n",
       "\t<li>'Gender'</li>\n",
       "\t<li>'Country'</li>\n",
       "\t<li>'Timestamp'</li>\n",
       "\t<li>'Clicked.on.Ad'</li>\n",
       "</ol>\n"
      ],
      "text/latex": [
       "\\begin{enumerate*}\n",
       "\\item 'Daily.Time.Spent.on.Site'\n",
       "\\item 'Age'\n",
       "\\item 'Area.Income'\n",
       "\\item 'Daily.Internet.Usage'\n",
       "\\item 'Ad.Topic.Line'\n",
       "\\item 'City'\n",
       "\\item 'Gender'\n",
       "\\item 'Country'\n",
       "\\item 'Timestamp'\n",
       "\\item 'Clicked.on.Ad'\n",
       "\\end{enumerate*}\n"
      ],
      "text/markdown": [
       "1. 'Daily.Time.Spent.on.Site'\n",
       "2. 'Age'\n",
       "3. 'Area.Income'\n",
       "4. 'Daily.Internet.Usage'\n",
       "5. 'Ad.Topic.Line'\n",
       "6. 'City'\n",
       "7. 'Gender'\n",
       "8. 'Country'\n",
       "9. 'Timestamp'\n",
       "10. 'Clicked.on.Ad'\n",
       "\n",
       "\n"
      ],
      "text/plain": [
       " [1] \"Daily.Time.Spent.on.Site\" \"Age\"                     \n",
       " [3] \"Area.Income\"              \"Daily.Internet.Usage\"    \n",
       " [5] \"Ad.Topic.Line\"            \"City\"                    \n",
       " [7] \"Gender\"                   \"Country\"                 \n",
       " [9] \"Timestamp\"                \"Clicked.on.Ad\"           "
      ]
     },
     "metadata": {},
     "output_type": "display_data"
    }
   ],
   "source": [
    "#Checking the column names\n",
    "attributes(advert)$names\n"
   ]
  },
  {
   "cell_type": "code",
   "execution_count": 125,
   "metadata": {},
   "outputs": [
    {
     "data": {
      "text/plain": [
       "< table of extent 0 >"
      ]
     },
     "metadata": {},
     "output_type": "display_data"
    }
   ],
   "source": [
    "table(advert$Clicked_on_Ad)"
   ]
  },
  {
   "cell_type": "code",
   "execution_count": 133,
   "metadata": {},
   "outputs": [
    {
     "name": "stdout",
     "output_type": "stream",
     "text": [
      "[1] \"Daily.Time.Spent.on.Site\"\n",
      "[1] \"numeric\"\n",
      "\n",
      "[1] \"Age\"\n",
      "[1] \"integer\"\n",
      "\n",
      "[1] \"Area.Income\"\n",
      "[1] \"numeric\"\n",
      "\n",
      "[1] \"Daily.Internet.Usage\"\n",
      "[1] \"numeric\"\n",
      "\n",
      "[1] \"Ad.Topic.Line\"\n",
      "[1] \"factor\"\n",
      "\n",
      "[1] \"City\"\n",
      "[1] \"factor\"\n",
      "\n",
      "[1] \"Gender\"\n",
      "[1] \"integer\"\n",
      "\n",
      "[1] \"Country\"\n",
      "[1] \"factor\"\n",
      "\n",
      "[1] \"Timestamp\"\n",
      "[1] \"factor\"\n",
      "\n",
      "[1] \"Clicked.on.Ad\"\n",
      "[1] \"integer\"\n",
      "\n"
     ]
    }
   ],
   "source": [
    "# Checking the datatypes for each column\n",
    "columns = colnames(advert)\n",
    "for (column in seq(length(colnames(advert)))){\n",
    "    print(columns[column])\n",
    "    print(class(advert[, column]))\n",
    "    cat('\\n')\n",
    "}"
   ]
  },
  {
   "cell_type": "code",
   "execution_count": 127,
   "metadata": {},
   "outputs": [],
   "source": [
    "# Changing column names to their appriopriate data type\n",
    "# Creating a lists of categorical and numerical columns \n",
    "\n",
    "# List of categorical columns\n",
    "cat.cols = c(\"Ad.Topic.Line\", \"City\", \"Gender\", \"Country\", \"Clicked.on.Ad\" )\n",
    "\n",
    "# List of numerical columns\n",
    "num.cols = c(\"Daily.Time.Spent.on.Site\", \"Age\", \"Area.Income\", \"Daily.Internet.Usage\")\n",
    "\n",
    "# Changing columns to factors\n",
    "advert[,cat_cols] %<>% lapply(function(x) as.factor(as.character(x)))"
   ]
  },
  {
   "cell_type": "code",
   "execution_count": 58,
   "metadata": {},
   "outputs": [
    {
     "data": {
      "text/plain": [
       "$Daily.Time.Spent.on.Site\n",
       "   Min. 1st Qu.  Median    Mean 3rd Qu.    Max. \n",
       "  32.60   51.36   68.22   65.00   78.55   91.43 \n",
       "\n",
       "$Age\n",
       "   Min. 1st Qu.  Median    Mean 3rd Qu.    Max. \n",
       "  19.00   29.00   35.00   36.01   42.00   61.00 \n",
       "\n",
       "$Area.Income\n",
       "   Min. 1st Qu.  Median    Mean 3rd Qu.    Max. \n",
       "  13996   47032   57012   55000   65471   79485 \n",
       "\n",
       "$Daily.Internet.Usage\n",
       "   Min. 1st Qu.  Median    Mean 3rd Qu.    Max. \n",
       "  104.8   138.8   183.1   180.0   218.8   270.0 \n",
       "\n",
       "$Gender\n",
       "   Min. 1st Qu.  Median    Mean 3rd Qu.    Max. \n",
       "  0.000   0.000   0.000   0.481   1.000   1.000 \n",
       "\n",
       "$Clicked.on.Ad\n",
       "   Min. 1st Qu.  Median    Mean 3rd Qu.    Max. \n",
       "    0.0     0.0     0.5     0.5     1.0     1.0 \n"
      ]
     },
     "metadata": {},
     "output_type": "display_data"
    }
   ],
   "source": [
    "# Summary of numeric columns\n",
    "\n",
    "advert %>%\n",
    "  select_if(is.numeric) %>%\n",
    "  map(~summary(.))"
   ]
  },
  {
   "cell_type": "markdown",
   "metadata": {},
   "source": []
  },
  {
   "cell_type": "markdown",
   "metadata": {},
   "source": [
    "# Checking the number of unique attributes\n",
    "\n",
    "cat.columns <- c(\"Ad.Topic.Line\",\"City\",\"Country\",\"Timestamp\")\n",
    "no <- function(x) {  \n",
    "    nlevels(x)\n",
    "  }\n",
    "  \n",
    "number <- sapply(select(advert, cat.columns), no)\n",
    "number"
   ]
  },
  {
   "cell_type": "markdown",
   "metadata": {},
   "source": [
    "# DATA CLEAN UP\n"
   ]
  },
  {
   "cell_type": "code",
   "execution_count": 59,
   "metadata": {},
   "outputs": [
    {
     "data": {
      "text/html": [
       "<dl class=dl-horizontal>\n",
       "\t<dt>Daily.Time.Spent.on.Site</dt>\n",
       "\t\t<dd>0</dd>\n",
       "\t<dt>Age</dt>\n",
       "\t\t<dd>0</dd>\n",
       "\t<dt>Area.Income</dt>\n",
       "\t\t<dd>0</dd>\n",
       "\t<dt>Daily.Internet.Usage</dt>\n",
       "\t\t<dd>0</dd>\n",
       "\t<dt>Ad.Topic.Line</dt>\n",
       "\t\t<dd>0</dd>\n",
       "\t<dt>City</dt>\n",
       "\t\t<dd>0</dd>\n",
       "\t<dt>Gender</dt>\n",
       "\t\t<dd>0</dd>\n",
       "\t<dt>Country</dt>\n",
       "\t\t<dd>0</dd>\n",
       "\t<dt>Timestamp</dt>\n",
       "\t\t<dd>0</dd>\n",
       "\t<dt>Clicked.on.Ad</dt>\n",
       "\t\t<dd>0</dd>\n",
       "</dl>\n"
      ],
      "text/latex": [
       "\\begin{description*}\n",
       "\\item[Daily.Time.Spent.on.Site] 0\n",
       "\\item[Age] 0\n",
       "\\item[Area.Income] 0\n",
       "\\item[Daily.Internet.Usage] 0\n",
       "\\item[Ad.Topic.Line] 0\n",
       "\\item[City] 0\n",
       "\\item[Gender] 0\n",
       "\\item[Country] 0\n",
       "\\item[Timestamp] 0\n",
       "\\item[Clicked.on.Ad] 0\n",
       "\\end{description*}\n"
      ],
      "text/markdown": [
       "Daily.Time.Spent.on.Site\n",
       ":   0Age\n",
       ":   0Area.Income\n",
       ":   0Daily.Internet.Usage\n",
       ":   0Ad.Topic.Line\n",
       ":   0City\n",
       ":   0Gender\n",
       ":   0Country\n",
       ":   0Timestamp\n",
       ":   0Clicked.on.Ad\n",
       ":   0\n",
       "\n"
      ],
      "text/plain": [
       "Daily.Time.Spent.on.Site                      Age              Area.Income \n",
       "                       0                        0                        0 \n",
       "    Daily.Internet.Usage            Ad.Topic.Line                     City \n",
       "                       0                        0                        0 \n",
       "                  Gender                  Country                Timestamp \n",
       "                       0                        0                        0 \n",
       "           Clicked.on.Ad \n",
       "                       0 "
      ]
     },
     "metadata": {},
     "output_type": "display_data"
    }
   ],
   "source": [
    "# Checking for Missing values\n",
    "\n",
    "colSums(is.na(advert))"
   ]
  },
  {
   "cell_type": "markdown",
   "metadata": {},
   "source": [
    "There is no missing values in our dataset"
   ]
  },
  {
   "cell_type": "code",
   "execution_count": 60,
   "metadata": {},
   "outputs": [
    {
     "data": {
      "text/html": [
       "0"
      ],
      "text/latex": [
       "0"
      ],
      "text/markdown": [
       "0"
      ],
      "text/plain": [
       "[1] 0"
      ]
     },
     "metadata": {},
     "output_type": "display_data"
    }
   ],
   "source": [
    "# Checking for duplicatated values\n",
    "\n",
    "anyDuplicated(advert)"
   ]
  },
  {
   "cell_type": "markdown",
   "metadata": {},
   "source": [
    "There are no duplicate values."
   ]
  },
  {
   "cell_type": "code",
   "execution_count": 61,
   "metadata": {},
   "outputs": [
    {
     "data": {
      "image/png": "[encoded data removed]",
      "text/plain": [
       "Plot with title \"Area Income \""
      ]
     },
     "metadata": {},
     "output_type": "display_data"
    }
   ],
   "source": [
    "# Checking outliers using boxplots on area income\n",
    "boxplot(advert$Area.Income,main = \"Area Income \",col=5)\n"
   ]
  },
  {
   "cell_type": "markdown",
   "metadata": {},
   "source": [
    "There are duplicates at the incomes below 2000"
   ]
  },
  {
   "cell_type": "code",
   "execution_count": 62,
   "metadata": {},
   "outputs": [
    {
     "data": {
      "image/png": "[encoded data removed]",
      "text/plain": [
       "Plot with title \"Daily Internet Usage \""
      ]
     },
     "metadata": {},
     "output_type": "display_data"
    }
   ],
   "source": [
    "# Plotting boxplots on  Daily Internet Usage\n",
    "boxplot(advert$Daily.Internet.Usage,main = \"Daily Internet Usage \",col=7)"
   ]
  },
  {
   "cell_type": "markdown",
   "metadata": {},
   "source": [
    "There are no outliers on the daily internet usage."
   ]
  },
  {
   "cell_type": "markdown",
   "metadata": {},
   "source": [
    "# EXPLORATIVE DATA ANALYSIS.\n",
    "\n",
    "Univariate Analysis"
   ]
  },
  {
   "cell_type": "code",
   "execution_count": 63,
   "metadata": {},
   "outputs": [
    {
     "data": {
      "image/png": "[encoded data removed]",
      "text/plain": [
       "plot without title"
      ]
     },
     "metadata": {},
     "output_type": "display_data"
    }
   ],
   "source": [
    "barchart(table(advert$'Age'\n",
    "),horizontal=FALSE,\n",
    "xlab=\"Age\n",
    "\",col=\"magenta\")"
   ]
  },
  {
   "cell_type": "markdown",
   "metadata": {},
   "source": [
    "Age is normally distributed."
   ]
  },
  {
   "cell_type": "code",
   "execution_count": 66,
   "metadata": {},
   "outputs": [
    {
     "data": {
      "image/png": "[encoded data removed]",
      "text/plain": [
       "Plot with title \"Gender Distribution\""
      ]
     },
     "metadata": {},
     "output_type": "display_data"
    }
   ],
   "source": [
    "# Plotting barplots of the Gender column\n",
    "\n",
    "counts <- table(advert$Age)\n",
    "barplot(counts, main=\"Gender Distribution\",xlab=\"Target variable\",ylab = \"Frequency\",col=2)\n"
   ]
  },
  {
   "cell_type": "code",
   "execution_count": 67,
   "metadata": {},
   "outputs": [
    {
     "data": {
      "image/png": "[encoded data removed]",
      "text/plain": [
       "Plot with title \"Target Variable Distribution\""
      ]
     },
     "metadata": {},
     "output_type": "display_data"
    }
   ],
   "source": [
    "# Plotting barplots of the target column\n",
    "\n",
    "counts <- table(advert$Clicked.on.Ad)\n",
    "barplot(counts, main=\"Target Variable Distribution\",xlab=\"Target variable\",ylab = \"Frequency\",col=\"cyan\")"
   ]
  },
  {
   "cell_type": "markdown",
   "metadata": {},
   "source": [
    "# Bivariate Analysis."
   ]
  },
  {
   "cell_type": "code",
   "execution_count": 69,
   "metadata": {},
   "outputs": [
    {
     "data": {
      "image/png": "[encoded data removed]",
      "text/plain": [
       "plot without title"
      ]
     },
     "metadata": {},
     "output_type": "display_data"
    }
   ],
   "source": [
    "#Checking the adclick as per the gender\n",
    "ggplot(advert, aes(Gender,Clicked.on.Ad )) + geom_bar( stat = \"identity\") + theme(axis.text.x = element_text(angle = 70, vjust = 0.5, color='purple')) + xlab(\"Gender\") + ylab(\"adclicks\")+ggtitle(\"Clicks as per the gender\")\n",
    "#Males reported to have more clicks as compared to female"
   ]
  },
  {
   "cell_type": "code",
   "execution_count": 17,
   "metadata": {},
   "outputs": [
    {
     "data": {
      "image/png": "[encoded data removed]",
      "text/plain": [
       "Plot with title \"Scatterplot Age VS Daily Time spent\""
      ]
     },
     "metadata": {},
     "output_type": "display_data"
    }
   ],
   "source": [
    "# Plotting a scatter plot between variables\n",
    "\n",
    "plot(advert$Area.Income, advert$age, main=\"Scatterplot Age VS Daily Time spent\",\n",
    "   xlab=\"Age \", ylab=\"Daily Time Spent \", pch=19, col=2)"
   ]
  },
  {
   "cell_type": "code",
   "execution_count": 78,
   "metadata": {},
   "outputs": [
    {
     "data": {
      "image/png": "[encoded data removed]",
      "text/plain": [
       "plot without title"
      ]
     },
     "metadata": {},
     "output_type": "display_data"
    }
   ],
   "source": [
    "corr = round(cor(select_if(advert, is.numeric)), 2)\n",
    "ggcorrplot(corr, hc.order = T, ggtheme = ggplot2::theme_gray,\n",
    "   colors = c(\"red\", \"white\", \"red\"), lab = T)"
   ]
  },
  {
   "cell_type": "markdown",
   "metadata": {},
   "source": [
    "There is a high correlation betweem Age and the number of ads clicked of 0.49"
   ]
  },
  {
   "cell_type": "code",
   "execution_count": 82,
   "metadata": {},
   "outputs": [
    {
     "data": {
      "image/png": "[encoded data removed]",
      "text/plain": [
       "plot without title"
      ]
     },
     "metadata": {},
     "output_type": "display_data"
    }
   ],
   "source": [
    "# Plotting a histogram of daily Time Spent\n",
    "\n",
    "qplot(advert$Daily.Time.Spent.on.Site,main = \"Daily Time Spent Distribution\",geom=\"histogram\",\n",
    "    xlab = \"Daily Time Spent\",ylab = \"Frequency Of TimeSpent\",binwidth = 6,fill=I(\"orange\"),col=I(\"magenta\"), alpha=I(.2),)"
   ]
  },
  {
   "cell_type": "markdown",
   "metadata": {},
   "source": [
    "Daily time spent online is about 80minutes. "
   ]
  },
  {
   "cell_type": "markdown",
   "metadata": {},
   "source": [
    "## MODELLING"
   ]
  },
  {
   "cell_type": "code",
   "execution_count": 136,
   "metadata": {},
   "outputs": [
    {
     "data": {
      "text/html": [
       "<table>\n",
       "<caption>A data.frame: 6 × 5</caption>\n",
       "<thead>\n",
       "\t<tr><th scope=col>Daily.Time.Spent.on.Site</th><th scope=col>Age</th><th scope=col>Area.Income</th><th scope=col>Gender</th><th scope=col>Clicked.on.Ad</th></tr>\n",
       "\t<tr><th scope=col>&lt;dbl&gt;</th><th scope=col>&lt;int&gt;</th><th scope=col>&lt;dbl&gt;</th><th scope=col>&lt;int&gt;</th><th scope=col>&lt;int&gt;</th></tr>\n",
       "</thead>\n",
       "<tbody>\n",
       "\t<tr><td>68.95</td><td>35</td><td>61833.90</td><td>0</td><td>0</td></tr>\n",
       "\t<tr><td>80.23</td><td>31</td><td>68441.85</td><td>1</td><td>0</td></tr>\n",
       "\t<tr><td>69.47</td><td>26</td><td>59785.94</td><td>0</td><td>0</td></tr>\n",
       "\t<tr><td>74.15</td><td>29</td><td>54806.18</td><td>1</td><td>0</td></tr>\n",
       "\t<tr><td>68.37</td><td>35</td><td>73889.99</td><td>0</td><td>0</td></tr>\n",
       "\t<tr><td>59.99</td><td>23</td><td>59761.56</td><td>1</td><td>0</td></tr>\n",
       "</tbody>\n",
       "</table>\n"
      ],
      "text/latex": [
       "A data.frame: 6 × 5\n",
       "\\begin{tabular}{r|lllll}\n",
       " Daily.Time.Spent.on.Site & Age & Area.Income & Gender & Clicked.on.Ad\\\\\n",
       " <dbl> & <int> & <dbl> & <int> & <int>\\\\\n",
       "\\hline\n",
       "\t 68.95 & 35 & 61833.90 & 0 & 0\\\\\n",
       "\t 80.23 & 31 & 68441.85 & 1 & 0\\\\\n",
       "\t 69.47 & 26 & 59785.94 & 0 & 0\\\\\n",
       "\t 74.15 & 29 & 54806.18 & 1 & 0\\\\\n",
       "\t 68.37 & 35 & 73889.99 & 0 & 0\\\\\n",
       "\t 59.99 & 23 & 59761.56 & 1 & 0\\\\\n",
       "\\end{tabular}\n"
      ],
      "text/markdown": [
       "\n",
       "A data.frame: 6 × 5\n",
       "\n",
       "| Daily.Time.Spent.on.Site &lt;dbl&gt; | Age &lt;int&gt; | Area.Income &lt;dbl&gt; | Gender &lt;int&gt; | Clicked.on.Ad &lt;int&gt; |\n",
       "|---|---|---|---|---|\n",
       "| 68.95 | 35 | 61833.90 | 0 | 0 |\n",
       "| 80.23 | 31 | 68441.85 | 1 | 0 |\n",
       "| 69.47 | 26 | 59785.94 | 0 | 0 |\n",
       "| 74.15 | 29 | 54806.18 | 1 | 0 |\n",
       "| 68.37 | 35 | 73889.99 | 0 | 0 |\n",
       "| 59.99 | 23 | 59761.56 | 1 | 0 |\n",
       "\n"
      ],
      "text/plain": [
       "  Daily.Time.Spent.on.Site Age Area.Income Gender Clicked.on.Ad\n",
       "1 68.95                    35  61833.90    0      0            \n",
       "2 80.23                    31  68441.85    1      0            \n",
       "3 69.47                    26  59785.94    0      0            \n",
       "4 74.15                    29  54806.18    1      0            \n",
       "5 68.37                    35  73889.99    0      0            \n",
       "6 59.99                    23  59761.56    1      0            "
      ]
     },
     "metadata": {},
     "output_type": "display_data"
    }
   ],
   "source": [
    "# Selecting the columns that will be used for modelling\n",
    "\n",
    "advert.df <- select(advert,c(\"Daily.Time.Spent.on.Site\" ,\"Age\" ,\"Area.Income\",\"Gender\",\"Clicked.on.Ad\"))\n",
    "head(advert.df)"
   ]
  },
  {
   "cell_type": "code",
   "execution_count": 139,
   "metadata": {},
   "outputs": [],
   "source": [
    "# Training the model\n",
    "model = train(Clicked.on.Ad ~ ., data = train, method = 'earth')\n",
    "\n",
    "# Making predictions using the training set\n",
    "pred = predict(model)"
   ]
  },
  {
   "cell_type": "code",
   "execution_count": 167,
   "metadata": {},
   "outputs": [],
   "source": [
    "# Splitting the data into training and testing sets\n",
    "# Setting the seed to 100, for reproducibility\n",
    "set.seed(150)\n",
    "\n",
    "# Selecting only columns that are relevant to modeling\n",
    " impor.cols= c('Daily.Time.Spent.on.Site', 'Age', 'Area.Income', 'Daily.Internet.Usage', 'Gender', 'Clicked.on.Ad')\n",
    "advert.df = select(advert, impor.cols)\n",
    "\n",
    "# Splitting the data into 80% training and 20% testing\n",
    "train.rows = createDataPartition(advert.df$Clicked.on.Ad, p=0.8, list=FALSE)\n",
    "\n",
    "# Creating the training  dataset\n",
    "train = advert.df[train.rows,]\n",
    "\n",
    "# Creating the test dataset\n",
    "test = advert.df[-train.rows,]\n",
    "\n",
    "# Creating the  X and Y variables\n",
    "x = train\n",
    "y = train$Clicked.on.Ad\n"
   ]
  },
  {
   "cell_type": "code",
   "execution_count": 141,
   "metadata": {},
   "outputs": [
    {
     "data": {
      "text/plain": [
       "Multivariate Adaptive Regression Spline \n",
       "\n",
       "700 samples\n",
       "  5 predictor\n",
       "\n",
       "No pre-processing\n",
       "Resampling: Bootstrapped (25 reps) \n",
       "Summary of sample sizes: 700, 700, 700, 700, 700, 700, ... \n",
       "Resampling results across tuning parameters:\n",
       "\n",
       "  nprune  RMSE       Rsquared   MAE      \n",
       "   2      0.2990051  0.6432675  0.2124800\n",
       "   7      0.2213048  0.8044390  0.1495103\n",
       "  13      0.2224785  0.8028511  0.1479868\n",
       "\n",
       "Tuning parameter 'degree' was held constant at a value of 1\n",
       "RMSE was used to select the optimal model using the smallest value.\n",
       "The final values used for the model were nprune = 7 and degree = 1."
      ]
     },
     "metadata": {},
     "output_type": "display_data"
    }
   ],
   "source": [
    "#Checking the model performance.\n",
    "model"
   ]
  },
  {
   "cell_type": "code",
   "execution_count": 168,
   "metadata": {},
   "outputs": [
    {
     "data": {
      "image/png": "[encoded data removed]",
      "text/plain": [
       "plot without title"
      ]
     },
     "metadata": {},
     "output_type": "display_data"
    }
   ],
   "source": [
    "# Checking which features were important in predicting the target variable\n",
    "important.features = varImp(model)\n",
    "\n",
    "# Plotting feature importance\n",
    "plot(important.features, main = 'Feature importance', col=3)\n"
   ]
  },
  {
   "cell_type": "code",
   "execution_count": null,
   "metadata": {},
   "outputs": [],
   "source": [
    " Daily internet usage is the most important feature."
   ]
  },
  {
   "cell_type": "markdown",
   "metadata": {},
   "source": [
    " Challenging my Model"
   ]
  },
  {
   "cell_type": "code",
   "execution_count": 164,
   "metadata": {},
   "outputs": [],
   "source": [
    "\n",
    "y.pred <- knn(train = x, test = x,\n",
    "                      cl = y, k = 21)\n",
    " "
   ]
  },
  {
   "cell_type": "code",
   "execution_count": 170,
   "metadata": {},
   "outputs": [
    {
     "name": "stdout",
     "output_type": "stream",
     "text": [
      "[1] 0.52375\n"
     ]
    }
   ],
   "source": [
    "# The accuracy\n",
    "\n",
    "print(mean(y == y.pred ))"
   ]
  },
  {
   "cell_type": "markdown",
   "metadata": {},
   "source": [
    "# Conclusion."
   ]
  },
  {
   "cell_type": "markdown",
   "metadata": {},
   "source": [
    "\n",
    "The accuracy was 52% this means that more data collection is needed and application of better models to improve how the modelcan learn."
   ]
  }
 ],
 "metadata": {
  "kernelspec": {
   "display_name": "R",
   "language": "R",
   "name": "ir"
  }
 },
 "nbformat": 4,
 "nbformat_minor": 2
}
